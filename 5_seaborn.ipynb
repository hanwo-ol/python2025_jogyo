{
 "cells": [
  {
   "cell_type": "markdown",
   "id": "cfb30ad2-e3b7-4796-b3c7-d7698c5d2197",
   "metadata": {},
   "source": [
    "# 5. Seaborn"
   ]
  },
  {
   "cell_type": "code",
   "execution_count": 3,
   "id": "3d0db539-f61d-4a48-8d2f-8ba985405094",
   "metadata": {},
   "outputs": [],
   "source": [
    "#!pip install seaborn"
   ]
  },
  {
   "cell_type": "code",
   "execution_count": 4,
   "id": "ad996c9f-0f21-4875-b216-913f5713fbd2",
   "metadata": {},
   "outputs": [],
   "source": [
    "import numpy as np\n",
    "import pandas as pd\n",
    "import matplotlib.pyplot as plt\n",
    "import seaborn as sns"
   ]
  },
  {
   "cell_type": "code",
   "execution_count": 6,
   "id": "3e81839f-45ed-4222-8f3b-547a844432ff",
   "metadata": {},
   "outputs": [
    {
     "data": {
      "text/html": [
       "<div>\n",
       "<style scoped>\n",
       "    .dataframe tbody tr th:only-of-type {\n",
       "        vertical-align: middle;\n",
       "    }\n",
       "\n",
       "    .dataframe tbody tr th {\n",
       "        vertical-align: top;\n",
       "    }\n",
       "\n",
       "    .dataframe thead th {\n",
       "        text-align: right;\n",
       "    }\n",
       "</style>\n",
       "<table border=\"1\" class=\"dataframe\">\n",
       "  <thead>\n",
       "    <tr style=\"text-align: right;\">\n",
       "      <th></th>\n",
       "      <th>no</th>\n",
       "      <th>city_code</th>\n",
       "      <th>gender</th>\n",
       "      <th>age_code</th>\n",
       "      <th>height</th>\n",
       "      <th>weight</th>\n",
       "      <th>waist</th>\n",
       "      <th>systolic</th>\n",
       "      <th>diastolic</th>\n",
       "      <th>blood_sugar</th>\n",
       "      <th>cholesterol</th>\n",
       "      <th>triglycerides</th>\n",
       "      <th>HDL</th>\n",
       "      <th>LDL</th>\n",
       "      <th>hemoglobin</th>\n",
       "      <th>serum</th>\n",
       "      <th>smoking</th>\n",
       "      <th>drinking</th>\n",
       "    </tr>\n",
       "  </thead>\n",
       "  <tbody>\n",
       "    <tr>\n",
       "      <th>0</th>\n",
       "      <td>1</td>\n",
       "      <td>36</td>\n",
       "      <td>1</td>\n",
       "      <td>9</td>\n",
       "      <td>165</td>\n",
       "      <td>60</td>\n",
       "      <td>72.1</td>\n",
       "      <td>127</td>\n",
       "      <td>79</td>\n",
       "      <td>90</td>\n",
       "      <td>188</td>\n",
       "      <td>58</td>\n",
       "      <td>58.0</td>\n",
       "      <td>118</td>\n",
       "      <td>15.0</td>\n",
       "      <td>1.1</td>\n",
       "      <td>1</td>\n",
       "      <td>0</td>\n",
       "    </tr>\n",
       "    <tr>\n",
       "      <th>1</th>\n",
       "      <td>5</td>\n",
       "      <td>41</td>\n",
       "      <td>2</td>\n",
       "      <td>12</td>\n",
       "      <td>155</td>\n",
       "      <td>50</td>\n",
       "      <td>75.2</td>\n",
       "      <td>144</td>\n",
       "      <td>89</td>\n",
       "      <td>110</td>\n",
       "      <td>220</td>\n",
       "      <td>171</td>\n",
       "      <td>53.0</td>\n",
       "      <td>133</td>\n",
       "      <td>12.4</td>\n",
       "      <td>0.7</td>\n",
       "      <td>1</td>\n",
       "      <td>0</td>\n",
       "    </tr>\n",
       "    <tr>\n",
       "      <th>2</th>\n",
       "      <td>6</td>\n",
       "      <td>27</td>\n",
       "      <td>1</td>\n",
       "      <td>9</td>\n",
       "      <td>185</td>\n",
       "      <td>85</td>\n",
       "      <td>94.0</td>\n",
       "      <td>114</td>\n",
       "      <td>72</td>\n",
       "      <td>86</td>\n",
       "      <td>234</td>\n",
       "      <td>183</td>\n",
       "      <td>50.0</td>\n",
       "      <td>147</td>\n",
       "      <td>16.4</td>\n",
       "      <td>1.1</td>\n",
       "      <td>3</td>\n",
       "      <td>1</td>\n",
       "    </tr>\n",
       "    <tr>\n",
       "      <th>3</th>\n",
       "      <td>7</td>\n",
       "      <td>44</td>\n",
       "      <td>1</td>\n",
       "      <td>9</td>\n",
       "      <td>165</td>\n",
       "      <td>80</td>\n",
       "      <td>93.0</td>\n",
       "      <td>112</td>\n",
       "      <td>73</td>\n",
       "      <td>250</td>\n",
       "      <td>119</td>\n",
       "      <td>265</td>\n",
       "      <td>26.0</td>\n",
       "      <td>40</td>\n",
       "      <td>15.7</td>\n",
       "      <td>0.7</td>\n",
       "      <td>3</td>\n",
       "      <td>1</td>\n",
       "    </tr>\n",
       "    <tr>\n",
       "      <th>4</th>\n",
       "      <td>9</td>\n",
       "      <td>41</td>\n",
       "      <td>2</td>\n",
       "      <td>17</td>\n",
       "      <td>150</td>\n",
       "      <td>50</td>\n",
       "      <td>82.0</td>\n",
       "      <td>136</td>\n",
       "      <td>65</td>\n",
       "      <td>104</td>\n",
       "      <td>177</td>\n",
       "      <td>61</td>\n",
       "      <td>63.0</td>\n",
       "      <td>101</td>\n",
       "      <td>13.3</td>\n",
       "      <td>0.7</td>\n",
       "      <td>1</td>\n",
       "      <td>0</td>\n",
       "    </tr>\n",
       "  </tbody>\n",
       "</table>\n",
       "</div>"
      ],
      "text/plain": [
       "   no  city_code  gender  age_code  height  weight  waist  systolic  \\\n",
       "0   1         36       1         9     165      60   72.1       127   \n",
       "1   5         41       2        12     155      50   75.2       144   \n",
       "2   6         27       1         9     185      85   94.0       114   \n",
       "3   7         44       1         9     165      80   93.0       112   \n",
       "4   9         41       2        17     150      50   82.0       136   \n",
       "\n",
       "   diastolic  blood_sugar  cholesterol  triglycerides   HDL  LDL  hemoglobin  \\\n",
       "0         79           90          188             58  58.0  118        15.0   \n",
       "1         89          110          220            171  53.0  133        12.4   \n",
       "2         72           86          234            183  50.0  147        16.4   \n",
       "3         73          250          119            265  26.0   40        15.7   \n",
       "4         65          104          177             61  63.0  101        13.3   \n",
       "\n",
       "   serum  smoking  drinking  \n",
       "0    1.1        1         0  \n",
       "1    0.7        1         0  \n",
       "2    1.1        3         1  \n",
       "3    0.7        3         1  \n",
       "4    0.7        1         0  "
      ]
     },
     "execution_count": 6,
     "metadata": {},
     "output_type": "execute_result"
    }
   ],
   "source": [
    "data = pd.read_csv('./data/05_data1.csv')\n",
    "data.head()"
   ]
  },
  {
   "cell_type": "code",
   "execution_count": 8,
   "id": "bf357643-409d-41b3-867a-a13373ca17cf",
   "metadata": {},
   "outputs": [
    {
     "data": {
      "text/plain": [
       "(3000, 18)"
      ]
     },
     "execution_count": 8,
     "metadata": {},
     "output_type": "execute_result"
    }
   ],
   "source": [
    "data.shape"
   ]
  },
  {
   "cell_type": "code",
   "execution_count": 9,
   "id": "2a30b74a-c26f-4c7c-ba86-139a7df3dce4",
   "metadata": {},
   "outputs": [
    {
     "data": {
      "text/plain": [
       "no                 int64\n",
       "city_code          int64\n",
       "gender             int64\n",
       "age_code           int64\n",
       "height             int64\n",
       "weight             int64\n",
       "waist            float64\n",
       "systolic           int64\n",
       "diastolic          int64\n",
       "blood_sugar        int64\n",
       "cholesterol        int64\n",
       "triglycerides      int64\n",
       "HDL              float64\n",
       "LDL                int64\n",
       "hemoglobin       float64\n",
       "serum            float64\n",
       "smoking            int64\n",
       "drinking           int64\n",
       "dtype: object"
      ]
     },
     "execution_count": 9,
     "metadata": {},
     "output_type": "execute_result"
    }
   ],
   "source": [
    "data.dtypes"
   ]
  },
  {
   "cell_type": "code",
   "execution_count": 21,
   "id": "ab3b616b-29f9-46c3-950c-4c137760f8a1",
   "metadata": {},
   "outputs": [
    {
     "data": {
      "text/html": [
       "<div>\n",
       "<style scoped>\n",
       "    .dataframe tbody tr th:only-of-type {\n",
       "        vertical-align: middle;\n",
       "    }\n",
       "\n",
       "    .dataframe tbody tr th {\n",
       "        vertical-align: top;\n",
       "    }\n",
       "\n",
       "    .dataframe thead th {\n",
       "        text-align: right;\n",
       "    }\n",
       "</style>\n",
       "<table border=\"1\" class=\"dataframe\">\n",
       "  <thead>\n",
       "    <tr style=\"text-align: right;\">\n",
       "      <th></th>\n",
       "      <th>gender</th>\n",
       "      <th>height</th>\n",
       "      <th>weight</th>\n",
       "      <th>waist</th>\n",
       "      <th>drinking</th>\n",
       "      <th>smoking</th>\n",
       "    </tr>\n",
       "  </thead>\n",
       "  <tbody>\n",
       "    <tr>\n",
       "      <th>0</th>\n",
       "      <td>1</td>\n",
       "      <td>165</td>\n",
       "      <td>60</td>\n",
       "      <td>72.1</td>\n",
       "      <td>0</td>\n",
       "      <td>1</td>\n",
       "    </tr>\n",
       "    <tr>\n",
       "      <th>1</th>\n",
       "      <td>2</td>\n",
       "      <td>155</td>\n",
       "      <td>50</td>\n",
       "      <td>75.2</td>\n",
       "      <td>0</td>\n",
       "      <td>1</td>\n",
       "    </tr>\n",
       "    <tr>\n",
       "      <th>2</th>\n",
       "      <td>1</td>\n",
       "      <td>185</td>\n",
       "      <td>85</td>\n",
       "      <td>94.0</td>\n",
       "      <td>1</td>\n",
       "      <td>3</td>\n",
       "    </tr>\n",
       "  </tbody>\n",
       "</table>\n",
       "</div>"
      ],
      "text/plain": [
       "   gender  height  weight  waist  drinking  smoking\n",
       "0       1     165      60   72.1         0        1\n",
       "1       2     155      50   75.2         0        1\n",
       "2       1     185      85   94.0         1        3"
      ]
     },
     "execution_count": 21,
     "metadata": {},
     "output_type": "execute_result"
    }
   ],
   "source": [
    "# 데이터 전처리 : 주요 변수 6개만 선택\n",
    "data6 = data.copy()\n",
    "data6 = data6[['gender', 'height', 'weight', 'waist', 'drinking', 'smoking']]\n",
    "data6.head(3)"
   ]
  },
  {
   "cell_type": "code",
   "execution_count": 22,
   "id": "9d7dd3d5-200e-403f-953f-a0cb9a509e57",
   "metadata": {},
   "outputs": [
    {
     "data": {
      "text/html": [
       "<div>\n",
       "<style scoped>\n",
       "    .dataframe tbody tr th:only-of-type {\n",
       "        vertical-align: middle;\n",
       "    }\n",
       "\n",
       "    .dataframe tbody tr th {\n",
       "        vertical-align: top;\n",
       "    }\n",
       "\n",
       "    .dataframe thead th {\n",
       "        text-align: right;\n",
       "    }\n",
       "</style>\n",
       "<table border=\"1\" class=\"dataframe\">\n",
       "  <thead>\n",
       "    <tr style=\"text-align: right;\">\n",
       "      <th></th>\n",
       "      <th>gender</th>\n",
       "      <th>height</th>\n",
       "      <th>weight</th>\n",
       "      <th>waist</th>\n",
       "      <th>drinking</th>\n",
       "      <th>smoking</th>\n",
       "    </tr>\n",
       "  </thead>\n",
       "  <tbody>\n",
       "    <tr>\n",
       "      <th>0</th>\n",
       "      <td>Male</td>\n",
       "      <td>165</td>\n",
       "      <td>60</td>\n",
       "      <td>72.1</td>\n",
       "      <td>0</td>\n",
       "      <td>1</td>\n",
       "    </tr>\n",
       "    <tr>\n",
       "      <th>1</th>\n",
       "      <td>Female</td>\n",
       "      <td>155</td>\n",
       "      <td>50</td>\n",
       "      <td>75.2</td>\n",
       "      <td>0</td>\n",
       "      <td>1</td>\n",
       "    </tr>\n",
       "    <tr>\n",
       "      <th>2</th>\n",
       "      <td>Male</td>\n",
       "      <td>185</td>\n",
       "      <td>85</td>\n",
       "      <td>94.0</td>\n",
       "      <td>1</td>\n",
       "      <td>3</td>\n",
       "    </tr>\n",
       "  </tbody>\n",
       "</table>\n",
       "</div>"
      ],
      "text/plain": [
       "   gender  height  weight  waist  drinking  smoking\n",
       "0    Male     165      60   72.1         0        1\n",
       "1  Female     155      50   75.2         0        1\n",
       "2    Male     185      85   94.0         1        3"
      ]
     },
     "execution_count": 22,
     "metadata": {},
     "output_type": "execute_result"
    }
   ],
   "source": [
    "# 데이터 전처리 : 라벨 매핑(label mapping)\n",
    "# gender에서 1은 'Male', 2는 'Female'로 변경\n",
    "data6['gender'] = data6['gender'].map({1: 'Male', 2: 'Female'})\n",
    "data6.head(3)"
   ]
  },
  {
   "cell_type": "code",
   "execution_count": 23,
   "id": "ef1b0326-b97c-4820-887d-ee44b36fb473",
   "metadata": {},
   "outputs": [
    {
     "data": {
      "text/html": [
       "<div>\n",
       "<style scoped>\n",
       "    .dataframe tbody tr th:only-of-type {\n",
       "        vertical-align: middle;\n",
       "    }\n",
       "\n",
       "    .dataframe tbody tr th {\n",
       "        vertical-align: top;\n",
       "    }\n",
       "\n",
       "    .dataframe thead th {\n",
       "        text-align: right;\n",
       "    }\n",
       "</style>\n",
       "<table border=\"1\" class=\"dataframe\">\n",
       "  <thead>\n",
       "    <tr style=\"text-align: right;\">\n",
       "      <th></th>\n",
       "      <th>gender</th>\n",
       "      <th>height</th>\n",
       "      <th>weight</th>\n",
       "      <th>waist</th>\n",
       "      <th>drinking</th>\n",
       "      <th>smoking</th>\n",
       "    </tr>\n",
       "  </thead>\n",
       "  <tbody>\n",
       "    <tr>\n",
       "      <th>0</th>\n",
       "      <td>Male</td>\n",
       "      <td>165</td>\n",
       "      <td>60</td>\n",
       "      <td>72.1</td>\n",
       "      <td>Non-drinking</td>\n",
       "      <td>Non-smoking</td>\n",
       "    </tr>\n",
       "    <tr>\n",
       "      <th>1</th>\n",
       "      <td>Female</td>\n",
       "      <td>155</td>\n",
       "      <td>50</td>\n",
       "      <td>75.2</td>\n",
       "      <td>Non-drinking</td>\n",
       "      <td>Non-smoking</td>\n",
       "    </tr>\n",
       "    <tr>\n",
       "      <th>2</th>\n",
       "      <td>Male</td>\n",
       "      <td>185</td>\n",
       "      <td>85</td>\n",
       "      <td>94.0</td>\n",
       "      <td>drinking</td>\n",
       "      <td>Smoking</td>\n",
       "    </tr>\n",
       "  </tbody>\n",
       "</table>\n",
       "</div>"
      ],
      "text/plain": [
       "   gender  height  weight  waist      drinking      smoking\n",
       "0    Male     165      60   72.1  Non-drinking  Non-smoking\n",
       "1  Female     155      50   75.2  Non-drinking  Non-smoking\n",
       "2    Male     185      85   94.0      drinking      Smoking"
      ]
     },
     "execution_count": 23,
     "metadata": {},
     "output_type": "execute_result"
    }
   ],
   "source": [
    "# drinking, smoking\n",
    "data6['drinking'] = data6['drinking'].replace({0: 'Non-drinking', 1: 'drinking'})\n",
    "data6['smoking'] = data6['smoking'].replace({1: 'Non-smoking', 2: 'Quit-smoking', 3: 'Smoking'})\n",
    "data6.head(3)"
   ]
  },
  {
   "cell_type": "code",
   "execution_count": 28,
   "id": "47267870-1e13-47b2-883d-8777a417d0d2",
   "metadata": {},
   "outputs": [
    {
     "data": {
      "text/html": [
       "<div>\n",
       "<style scoped>\n",
       "    .dataframe tbody tr th:only-of-type {\n",
       "        vertical-align: middle;\n",
       "    }\n",
       "\n",
       "    .dataframe tbody tr th {\n",
       "        vertical-align: top;\n",
       "    }\n",
       "\n",
       "    .dataframe thead th {\n",
       "        text-align: right;\n",
       "    }\n",
       "</style>\n",
       "<table border=\"1\" class=\"dataframe\">\n",
       "  <thead>\n",
       "    <tr style=\"text-align: right;\">\n",
       "      <th></th>\n",
       "      <th>gender</th>\n",
       "      <th>drinking</th>\n",
       "      <th>count</th>\n",
       "    </tr>\n",
       "  </thead>\n",
       "  <tbody>\n",
       "    <tr>\n",
       "      <th>0</th>\n",
       "      <td>Female</td>\n",
       "      <td>Non-drinking</td>\n",
       "      <td>888</td>\n",
       "    </tr>\n",
       "    <tr>\n",
       "      <th>1</th>\n",
       "      <td>Female</td>\n",
       "      <td>drinking</td>\n",
       "      <td>611</td>\n",
       "    </tr>\n",
       "    <tr>\n",
       "      <th>2</th>\n",
       "      <td>Male</td>\n",
       "      <td>Non-drinking</td>\n",
       "      <td>415</td>\n",
       "    </tr>\n",
       "    <tr>\n",
       "      <th>3</th>\n",
       "      <td>Male</td>\n",
       "      <td>drinking</td>\n",
       "      <td>1086</td>\n",
       "    </tr>\n",
       "  </tbody>\n",
       "</table>\n",
       "</div>"
      ],
      "text/plain": [
       "   gender      drinking  count\n",
       "0  Female  Non-drinking    888\n",
       "1  Female      drinking    611\n",
       "2    Male  Non-drinking    415\n",
       "3    Male      drinking   1086"
      ]
     },
     "execution_count": 28,
     "metadata": {},
     "output_type": "execute_result"
    }
   ],
   "source": [
    "# 데이터 집계1 : 성별과 음주 여부별 빈도\n",
    "drinking = data6.groupby(['gender', 'drinking'])['drinking'].count()\n",
    "drinking = drinking.to_frame(name='count')\n",
    "drinking = drinking.reset_index()              # drinking.reset_index(inplace=True)\n",
    "drinking.head()"
   ]
  },
  {
   "cell_type": "code",
   "execution_count": 37,
   "id": "ae71fe28-a09c-42f2-8108-468cdbd0797e",
   "metadata": {},
   "outputs": [
    {
     "data": {
      "image/png": "[encoded data removed]",
      "text/plain": [
       "<Figure size 300x200 with 1 Axes>"
      ]
     },
     "metadata": {},
     "output_type": "display_data"
    }
   ],
   "source": [
    "# 막대 그래프1 : 성별에 따른 음주 여부 분포\n",
    "# 여자는 음주를 하지 않는 사람이 더 많이 나타났고,\n",
    "# 남자는 음주를 하는 사람이 그렇지 않은 사람보다 약 2.5배 정도 많음\n",
    "plt.figure(figsize=(3, 2))\n",
    "sns.barplot(x='gender', y='count', hue='drinking', data=drinking)\n",
    "plt.show()"
   ]
  },
  {
   "cell_type": "code",
   "execution_count": 38,
   "id": "2c69abc9-8187-458f-9192-ac8101d2edde",
   "metadata": {},
   "outputs": [
    {
     "data": {
      "text/html": [
       "<div>\n",
       "<style scoped>\n",
       "    .dataframe tbody tr th:only-of-type {\n",
       "        vertical-align: middle;\n",
       "    }\n",
       "\n",
       "    .dataframe tbody tr th {\n",
       "        vertical-align: top;\n",
       "    }\n",
       "\n",
       "    .dataframe thead th {\n",
       "        text-align: right;\n",
       "    }\n",
       "</style>\n",
       "<table border=\"1\" class=\"dataframe\">\n",
       "  <thead>\n",
       "    <tr style=\"text-align: right;\">\n",
       "      <th></th>\n",
       "      <th>gender</th>\n",
       "      <th>smoking</th>\n",
       "      <th>count</th>\n",
       "    </tr>\n",
       "  </thead>\n",
       "  <tbody>\n",
       "    <tr>\n",
       "      <th>0</th>\n",
       "      <td>Female</td>\n",
       "      <td>Non-smoking</td>\n",
       "      <td>1422</td>\n",
       "    </tr>\n",
       "    <tr>\n",
       "      <th>1</th>\n",
       "      <td>Female</td>\n",
       "      <td>Quit-smoking</td>\n",
       "      <td>45</td>\n",
       "    </tr>\n",
       "    <tr>\n",
       "      <th>2</th>\n",
       "      <td>Female</td>\n",
       "      <td>Smoking</td>\n",
       "      <td>32</td>\n",
       "    </tr>\n",
       "    <tr>\n",
       "      <th>3</th>\n",
       "      <td>Male</td>\n",
       "      <td>Non-smoking</td>\n",
       "      <td>502</td>\n",
       "    </tr>\n",
       "    <tr>\n",
       "      <th>4</th>\n",
       "      <td>Male</td>\n",
       "      <td>Quit-smoking</td>\n",
       "      <td>519</td>\n",
       "    </tr>\n",
       "  </tbody>\n",
       "</table>\n",
       "</div>"
      ],
      "text/plain": [
       "   gender       smoking  count\n",
       "0  Female   Non-smoking   1422\n",
       "1  Female  Quit-smoking     45\n",
       "2  Female       Smoking     32\n",
       "3    Male   Non-smoking    502\n",
       "4    Male  Quit-smoking    519"
      ]
     },
     "execution_count": 38,
     "metadata": {},
     "output_type": "execute_result"
    }
   ],
   "source": [
    "# 데이터 집계2 : 성별과 흡연 상태별 빈도\n",
    "smoking = data6.groupby(['gender', 'smoking'])['smoking'].count()\n",
    "smoking = smoking.to_frame(name='count')\n",
    "smoking = smoking.reset_index()\n",
    "smoking.head()"
   ]
  },
  {
   "cell_type": "code",
   "execution_count": 39,
   "id": "a3b052ee-84b0-4898-b720-7dbb05849898",
   "metadata": {},
   "outputs": [
    {
     "data": {
      "image/png": "[encoded data removed]",
      "text/plain": [
       "<Figure size 300x200 with 1 Axes>"
      ]
     },
     "metadata": {},
     "output_type": "display_data"
    }
   ],
   "source": [
    "# 막대 그래프2 : 성별에 따른 흡연 상태 분포\n",
    "# 여자는 음주를 하지 않는 사람이 더 많이 나타났고,\n",
    "# 남자는 음주를 하는 사람이 그렇지 않은 사람보다 약 2.5배 정도 많음\n",
    "plt.figure(figsize=(3, 2))\n",
    "sns.barplot(x='gender', y='count', hue='smoking', data=smoking)\n",
    "plt.show()"
   ]
  },
  {
   "cell_type": "code",
   "execution_count": 49,
   "id": "648b33fb-7dd9-482e-bd0f-2f585748126d",
   "metadata": {},
   "outputs": [
    {
     "data": {
      "image/png": "[encoded data removed]",
      "text/plain": [
       "<Figure size 800x300 with 1 Axes>"
      ]
     },
     "metadata": {},
     "output_type": "display_data"
    }
   ],
   "source": [
    "# 상자수염 그래프 : 성별 및 음주 여부에 따른 몸무게 분포 비교\n",
    "plt.figure(figsize=(8, 3))\n",
    "sns.boxplot(x='gender', y='weight', hue='drinking', widths=0.3, data=data6)\n",
    "plt.show()"
   ]
  },
  {
   "cell_type": "code",
   "execution_count": 51,
   "id": "b6b8cc96-fb89-4ec6-b93a-978ecd722e69",
   "metadata": {},
   "outputs": [
    {
     "data": {
      "image/png": "[encoded data removed]",
      "text/plain": [
       "<Figure size 800x300 with 1 Axes>"
      ]
     },
     "metadata": {},
     "output_type": "display_data"
    }
   ],
   "source": [
    "# 상자수염 그래프 : 성별 및 음주 여부에 따른 몸무게 분포 비교\n",
    "plt.figure(figsize=(8, 3))\n",
    "sns.boxplot(x='gender', y='weight', hue='smoking', widths=0.2, data=data6)\n",
    "plt.show()"
   ]
  },
  {
   "cell_type": "code",
   "execution_count": 52,
   "id": "bd216c23-8026-49df-aba7-43d313ad599d",
   "metadata": {},
   "outputs": [
    {
     "data": {
      "image/png": "[encoded data removed]",
      "text/plain": [
       "<Figure size 300x200 with 1 Axes>"
      ]
     },
     "metadata": {},
     "output_type": "display_data"
    }
   ],
   "source": [
    "# 성별에 따른 음주 여부 분포\n",
    "# -> 막대 그래프로 그리기 위해서 먼저 데이터를 집계함\n",
    "plt.figure(figsize=(3, 2))\n",
    "sns.barplot(x='gender', y='count', hue='drinking', data=drinking)\n",
    "plt.show()"
   ]
  },
  {
   "cell_type": "code",
   "execution_count": 53,
   "id": "334a79fd-c22f-4c61-800b-14aa159fe3e7",
   "metadata": {},
   "outputs": [
    {
     "data": {
      "image/png": "[encoded data removed]",
      "text/plain": [
       "<Figure size 300x200 with 1 Axes>"
      ]
     },
     "metadata": {},
     "output_type": "display_data"
    }
   ],
   "source": [
    "# 카운트 플롯 : 성별에 따른 음주 여부 분포\n",
    "plt.figure(figsize=(3, 2))\n",
    "sns.countplot(x='gender', hue='drinking', data=data6)\n",
    "plt.show()"
   ]
  }
 ],
 "metadata": {
  "kernelspec": {
   "display_name": "Python 3 (ipykernel)",
   "language": "python",
   "name": "python3"
  },
  "language_info": {
   "codemirror_mode": {
    "name": "ipython",
    "version": 3
   },
   "file_extension": ".py",
   "mimetype": "text/x-python",
   "name": "python",
   "nbconvert_exporter": "python",
   "pygments_lexer": "ipython3",
   "version": "3.11.13"
  }
 },
 "nbformat": 4,
 "nbformat_minor": 5
}
