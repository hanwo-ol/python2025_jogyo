{
 "cells": [
  {
   "cell_type": "markdown",
   "id": "a2701c47-455d-4e5d-9477-ac920be1e35b",
   "metadata": {},
   "source": [
    "# 2. NumPy"
   ]
  },
  {
   "cell_type": "code",
   "execution_count": 1,
   "id": "58779939-c49b-4ed9-b0f9-009081875ed5",
   "metadata": {},
   "outputs": [
    {
     "data": {
      "text/plain": [
       "[1, 2, 3]"
      ]
     },
     "execution_count": 1,
     "metadata": {},
     "output_type": "execute_result"
    }
   ],
   "source": [
    "a = [1, 2, 3]\n",
    "a"
   ]
  },
  {
   "cell_type": "code",
   "execution_count": 2,
   "id": "3b57f448-f5b0-4f1b-89f3-51eef7ee722b",
   "metadata": {},
   "outputs": [
    {
     "data": {
      "text/plain": [
       "[11, 12, 13]"
      ]
     },
     "execution_count": 2,
     "metadata": {},
     "output_type": "execute_result"
    }
   ],
   "source": [
    "[a+10 for a in a]"
   ]
  },
  {
   "cell_type": "code",
   "execution_count": 3,
   "id": "0405cdb2-77db-4a70-a79f-15ed1d146422",
   "metadata": {},
   "outputs": [
    {
     "data": {
      "text/plain": [
       "[10, 3.14, 'Park', [1, 2, 3]]"
      ]
     },
     "execution_count": 3,
     "metadata": {},
     "output_type": "execute_result"
    }
   ],
   "source": [
    "[10, 3.14, 'Park', [1, 2, 3]]"
   ]
  },
  {
   "cell_type": "code",
   "execution_count": 4,
   "id": "f4756062-baba-44b0-a021-f59640ad2190",
   "metadata": {},
   "outputs": [],
   "source": [
    "# NumPy 라이브러리 설치\n",
    "#!pip install numpy"
   ]
  },
  {
   "cell_type": "code",
   "execution_count": 5,
   "id": "1127ed11-364b-42ca-8bde-1953179286b0",
   "metadata": {},
   "outputs": [],
   "source": [
    "# NumPy 라이브러리 불러오기\n",
    "import numpy as np"
   ]
  },
  {
   "cell_type": "code",
   "execution_count": 6,
   "id": "df9ee8ed-6d49-4093-b272-2778a620d788",
   "metadata": {},
   "outputs": [
    {
     "name": "stdout",
     "output_type": "stream",
     "text": [
      "[1 2 3 4]\n"
     ]
    }
   ],
   "source": [
    "# 넘파이 배열 생성1 : 리스트 사용\n",
    "arr1 = np.array([1, 2, 3, 4])\n",
    "print(arr1)"
   ]
  },
  {
   "cell_type": "code",
   "execution_count": 7,
   "id": "35292e37-a292-4663-9201-12d396e77d31",
   "metadata": {},
   "outputs": [
    {
     "data": {
      "text/plain": [
       "array([11, 12, 13, 14])"
      ]
     },
     "execution_count": 7,
     "metadata": {},
     "output_type": "execute_result"
    }
   ],
   "source": [
    "arr1 + 10"
   ]
  },
  {
   "cell_type": "code",
   "execution_count": 8,
   "id": "a77334af-7686-4d3e-bc42-43aeeed67185",
   "metadata": {},
   "outputs": [
    {
     "name": "stdout",
     "output_type": "stream",
     "text": [
      "['1' '2' 'Park']\n"
     ]
    }
   ],
   "source": [
    "# 넘파이 배열 생성2\n",
    "arr2 = np.array([1, 2, 'Park'])\n",
    "print(arr2)"
   ]
  },
  {
   "cell_type": "code",
   "execution_count": 9,
   "id": "8441164f-8c8b-473c-a72a-f8c4a1485d06",
   "metadata": {},
   "outputs": [
    {
     "name": "stdout",
     "output_type": "stream",
     "text": [
      "[[ 1  2  3]\n",
      " [11 12 13]]\n"
     ]
    }
   ],
   "source": [
    "# 넘파이 배열 생성3 : 2차원 배열\n",
    "arr3 = np.array([[1, 2, 3], [11, 12, 13]])\n",
    "print(arr3)"
   ]
  },
  {
   "cell_type": "code",
   "execution_count": 10,
   "id": "85c7d038-ea86-4bf6-a024-7d6077b430f2",
   "metadata": {},
   "outputs": [
    {
     "data": {
      "text/plain": [
       "2"
      ]
     },
     "execution_count": 10,
     "metadata": {},
     "output_type": "execute_result"
    }
   ],
   "source": [
    "# 속성1 : 배열의 차원\n",
    "arr3.ndim"
   ]
  },
  {
   "cell_type": "code",
   "execution_count": 11,
   "id": "96b2345b-0909-4302-95f1-8dbd76836e4a",
   "metadata": {},
   "outputs": [
    {
     "data": {
      "text/plain": [
       "dtype('int64')"
      ]
     },
     "execution_count": 11,
     "metadata": {},
     "output_type": "execute_result"
    }
   ],
   "source": [
    "# 속성2 : 배열 요소의 자료형\n",
    "arr3.dtype"
   ]
  },
  {
   "cell_type": "code",
   "execution_count": 12,
   "id": "d843ed6d-623a-45ef-b86d-b6842a1118a2",
   "metadata": {},
   "outputs": [
    {
     "data": {
      "text/plain": [
       "8"
      ]
     },
     "execution_count": 12,
     "metadata": {},
     "output_type": "execute_result"
    }
   ],
   "source": [
    "arr3.itemsize"
   ]
  },
  {
   "cell_type": "code",
   "execution_count": 13,
   "id": "09d4aebf-f490-4a5c-ad21-d1337c13a6d9",
   "metadata": {},
   "outputs": [
    {
     "data": {
      "text/plain": [
       "(2, 3)"
      ]
     },
     "execution_count": 13,
     "metadata": {},
     "output_type": "execute_result"
    }
   ],
   "source": [
    "arr3.shape"
   ]
  },
  {
   "cell_type": "code",
   "execution_count": 14,
   "id": "63d911be-e0b2-40aa-b764-0966794a011f",
   "metadata": {},
   "outputs": [
    {
     "data": {
      "text/plain": [
       "(4,)"
      ]
     },
     "execution_count": 14,
     "metadata": {},
     "output_type": "execute_result"
    }
   ],
   "source": [
    "arr1.shape"
   ]
  },
  {
   "cell_type": "code",
   "execution_count": 15,
   "id": "943b14b0-90cb-4e0a-a75c-2e81bad7db4a",
   "metadata": {},
   "outputs": [
    {
     "data": {
      "text/plain": [
       "[0, 1, 2, 3, 4, 5, 6, 7, 8, 9]"
      ]
     },
     "execution_count": 15,
     "metadata": {},
     "output_type": "execute_result"
    }
   ],
   "source": [
    "list(range(10))"
   ]
  },
  {
   "cell_type": "code",
   "execution_count": 16,
   "id": "2e1f4669-482c-4e0a-b18e-10def5dfd674",
   "metadata": {},
   "outputs": [
    {
     "data": {
      "text/plain": [
       "array([0, 1, 2, 3, 4, 5, 6, 7, 8, 9])"
      ]
     },
     "execution_count": 16,
     "metadata": {},
     "output_type": "execute_result"
    }
   ],
   "source": [
    "np.arange(10)"
   ]
  },
  {
   "cell_type": "code",
   "execution_count": 17,
   "id": "8b5eb59b-d9c0-4f12-b361-b71a554d379d",
   "metadata": {},
   "outputs": [
    {
     "data": {
      "text/plain": [
       "array([20, 21, 22, 23, 24, 25, 26, 27, 28, 29, 30, 31, 32, 33, 34, 35, 36,\n",
       "       37, 38, 39, 40, 41, 42, 43, 44, 45, 46, 47, 48, 49])"
      ]
     },
     "execution_count": 17,
     "metadata": {},
     "output_type": "execute_result"
    }
   ],
   "source": [
    "np.arange(20, 50)"
   ]
  },
  {
   "cell_type": "code",
   "execution_count": 18,
   "id": "786f67bb-0e0d-4d82-9c70-5486cf49370a",
   "metadata": {},
   "outputs": [
    {
     "data": {
      "text/plain": [
       "array([ 1,  3,  5,  7,  9, 11, 13, 15, 17, 19, 21, 23, 25, 27, 29, 31, 33,\n",
       "       35, 37, 39, 41, 43, 45, 47, 49, 51, 53, 55, 57, 59, 61, 63, 65, 67,\n",
       "       69, 71, 73, 75, 77, 79, 81, 83, 85, 87, 89, 91, 93, 95, 97, 99])"
      ]
     },
     "execution_count": 18,
     "metadata": {},
     "output_type": "execute_result"
    }
   ],
   "source": [
    "np.arange(1, 100, 2)"
   ]
  },
  {
   "cell_type": "code",
   "execution_count": 19,
   "id": "86c86aac-29e2-488f-8172-e90eb143cfa7",
   "metadata": {},
   "outputs": [
    {
     "data": {
      "text/plain": [
       "array([1. , 1.5, 2. , 2.5, 3. , 3.5, 4. , 4.5, 5. , 5.5, 6. , 6.5, 7. ,\n",
       "       7.5, 8. , 8.5, 9. , 9.5])"
      ]
     },
     "execution_count": 19,
     "metadata": {},
     "output_type": "execute_result"
    }
   ],
   "source": [
    "np.arange(1, 10, 0.5)"
   ]
  },
  {
   "cell_type": "code",
   "execution_count": 20,
   "id": "4f78e4b6-adb1-4ca3-ab6b-2c65e387d69d",
   "metadata": {},
   "outputs": [
    {
     "name": "stdout",
     "output_type": "stream",
     "text": [
      "[10 20 30 40 50]\n",
      "20\n",
      "40\n"
     ]
    }
   ],
   "source": [
    "# 넘파이 배열 인덱싱 : 정수 사용\n",
    "arr8 = np.arange(10, 51, 10)\n",
    "print(arr8)\n",
    "print(arr8[1])        # 20\n",
    "print(arr8[-2])       # 40"
   ]
  },
  {
   "cell_type": "code",
   "execution_count": 21,
   "id": "2f04e8c5-7d57-48ef-80fb-7efeaa2cebbb",
   "metadata": {},
   "outputs": [
    {
     "name": "stdout",
     "output_type": "stream",
     "text": [
      "[10 20 50]\n"
     ]
    }
   ],
   "source": [
    "# 넘파이 배열 인덱싱 : 배열 사용\n",
    "idx = [0, 1, 4]\n",
    "print(arr8[idx])"
   ]
  },
  {
   "cell_type": "code",
   "execution_count": 22,
   "id": "0cda5844-e3cb-4d9a-9a17-d128c690a234",
   "metadata": {},
   "outputs": [
    {
     "name": "stdout",
     "output_type": "stream",
     "text": [
      "[30 40 50]\n"
     ]
    }
   ],
   "source": [
    "# 넘파일 배열 인덱싱 : 논리값(True, False) 사용\n",
    "mask = arr8 > 25\n",
    "print(arr8[mask])"
   ]
  },
  {
   "cell_type": "code",
   "execution_count": 23,
   "id": "7429451c-d3b7-41d8-9242-471bced3f55c",
   "metadata": {},
   "outputs": [
    {
     "data": {
      "text/plain": [
       "array([11, 12, 13, 14, 15])"
      ]
     },
     "execution_count": 23,
     "metadata": {},
     "output_type": "execute_result"
    }
   ],
   "source": [
    "# 넘파이 배열 슬라이싱\n",
    "arr9 = np.arange(11, 16)\n",
    "arr9"
   ]
  },
  {
   "cell_type": "code",
   "execution_count": 24,
   "id": "e120ac14-094f-4671-ba6f-05420b881219",
   "metadata": {},
   "outputs": [
    {
     "data": {
      "text/plain": [
       "array([12, 13, 14])"
      ]
     },
     "execution_count": 24,
     "metadata": {},
     "output_type": "execute_result"
    }
   ],
   "source": [
    "# 1번 인덱스부터 4번 인덱스 전까지\n",
    "arr9[1:4]"
   ]
  },
  {
   "cell_type": "code",
   "execution_count": 25,
   "id": "42308fca-964d-4d08-944b-0e092917b477",
   "metadata": {},
   "outputs": [
    {
     "data": {
      "text/plain": [
       "array([11, 12, 13])"
      ]
     },
     "execution_count": 25,
     "metadata": {},
     "output_type": "execute_result"
    }
   ],
   "source": [
    "arr9[:3]"
   ]
  },
  {
   "cell_type": "code",
   "execution_count": 26,
   "id": "637e761b-7e96-45f9-bbb4-df5c037acbcc",
   "metadata": {},
   "outputs": [
    {
     "data": {
      "text/plain": [
       "array([14, 15])"
      ]
     },
     "execution_count": 26,
     "metadata": {},
     "output_type": "execute_result"
    }
   ],
   "source": [
    "arr9[3:]"
   ]
  },
  {
   "cell_type": "code",
   "execution_count": 27,
   "id": "646ee72b-471a-4922-b7ec-30dec8755ebc",
   "metadata": {},
   "outputs": [
    {
     "data": {
      "text/plain": [
       "array([11, 13, 15])"
      ]
     },
     "execution_count": 27,
     "metadata": {},
     "output_type": "execute_result"
    }
   ],
   "source": [
    "arr9[::2]"
   ]
  },
  {
   "cell_type": "code",
   "execution_count": 28,
   "id": "e371220a-fa1e-4d33-a10e-09cc25d19881",
   "metadata": {},
   "outputs": [
    {
     "data": {
      "text/plain": [
       "array([15, 14, 13, 12, 11])"
      ]
     },
     "execution_count": 28,
     "metadata": {},
     "output_type": "execute_result"
    }
   ],
   "source": [
    "# 역순 정렬\n",
    "arr9[::-1]"
   ]
  },
  {
   "cell_type": "code",
   "execution_count": 29,
   "id": "2fc64358-64be-412c-8990-a6aa2701de06",
   "metadata": {},
   "outputs": [
    {
     "data": {
      "text/plain": [
       "array([1, 2, 3, 4, 5])"
      ]
     },
     "execution_count": 29,
     "metadata": {},
     "output_type": "execute_result"
    }
   ],
   "source": [
    "arr9 - 10"
   ]
  },
  {
   "cell_type": "code",
   "execution_count": 30,
   "id": "d5838ed6-24fa-4fb2-a6b8-5ab14fd278db",
   "metadata": {},
   "outputs": [
    {
     "data": {
      "text/plain": [
       "array([ True,  True,  True, False, False])"
      ]
     },
     "execution_count": 30,
     "metadata": {},
     "output_type": "execute_result"
    }
   ],
   "source": [
    "arr9 <= 13"
   ]
  },
  {
   "cell_type": "code",
   "execution_count": 31,
   "id": "15e23567-64e4-44e6-94a6-8b270260c937",
   "metadata": {},
   "outputs": [
    {
     "data": {
      "text/plain": [
       "array([11, 22, 33])"
      ]
     },
     "execution_count": 31,
     "metadata": {},
     "output_type": "execute_result"
    }
   ],
   "source": [
    "x = np.array([1, 2, 3])\n",
    "y = np.array([10, 20, 30])\n",
    "x + y"
   ]
  },
  {
   "cell_type": "code",
   "execution_count": 32,
   "id": "08432daa-1b8a-46a7-9b96-a77e15f594b1",
   "metadata": {},
   "outputs": [
    {
     "name": "stdout",
     "output_type": "stream",
     "text": [
      "[0 1 2 3 4 5]\n",
      "[0 1 2 3 4 5]\n"
     ]
    }
   ],
   "source": [
    "# 얕은 복사\n",
    "arr11 = np.arange(6)\n",
    "copy11 = arr11\n",
    "\n",
    "print(arr11)\n",
    "print(copy11)"
   ]
  },
  {
   "cell_type": "code",
   "execution_count": 33,
   "id": "351dfd10-6381-4f5b-a001-7d95ba015809",
   "metadata": {},
   "outputs": [
    {
     "name": "stdout",
     "output_type": "stream",
     "text": [
      "[10  1  2  3  4  5]\n",
      "[10  1  2  3  4  5]\n"
     ]
    }
   ],
   "source": [
    "# 복사본을 수정 -> 원본도 변함\n",
    "copy11[0] = 10\n",
    "\n",
    "print(arr11)\n",
    "print(copy11)"
   ]
  },
  {
   "cell_type": "code",
   "execution_count": 34,
   "id": "0933ba08-1d8f-4fee-be8c-127cc932f221",
   "metadata": {},
   "outputs": [
    {
     "name": "stdout",
     "output_type": "stream",
     "text": [
      "[10  1  2  3  4 -5]\n",
      "[10  1  2  3  4 -5]\n"
     ]
    }
   ],
   "source": [
    "# 원본을 수정 -> 복사본도 변함\n",
    "arr11[-1] = -5\n",
    "\n",
    "print(arr11)\n",
    "print(copy11)"
   ]
  },
  {
   "cell_type": "code",
   "execution_count": 35,
   "id": "4f6ff7bb-21b5-4653-8337-ac50240ce725",
   "metadata": {},
   "outputs": [
    {
     "name": "stdout",
     "output_type": "stream",
     "text": [
      "[11 12 13 14 15]\n",
      "[11 12 13 14 15]\n"
     ]
    }
   ],
   "source": [
    "# 깊은 복사\n",
    "arr12 = np.arange(11, 16)\n",
    "copy12 = arr12.copy()\n",
    "\n",
    "print(arr12)\n",
    "print(copy12)"
   ]
  },
  {
   "cell_type": "code",
   "execution_count": 36,
   "id": "70e22542-dbd2-49ba-80a3-1c70a4273c01",
   "metadata": {},
   "outputs": [
    {
     "name": "stdout",
     "output_type": "stream",
     "text": [
      "[11 12 13 14 15]\n",
      "[ 0 12 13 14 15]\n"
     ]
    }
   ],
   "source": [
    "# 복사본을 바꿔도 -> 원본은 변하지 않음\n",
    "copy12[0] = 0\n",
    "\n",
    "print(arr12)\n",
    "print(copy12)"
   ]
  },
  {
   "cell_type": "code",
   "execution_count": 37,
   "id": "7a33d255-ad6b-405f-aa9d-9d80d65486b4",
   "metadata": {},
   "outputs": [
    {
     "name": "stdout",
     "output_type": "stream",
     "text": [
      "[ 11  12  13  14 100]\n",
      "[ 0 12 13 14 15]\n"
     ]
    }
   ],
   "source": [
    "# 원본을 바꿔도 -> 복사본은 변하지 않음\n",
    "arr12[-1] = 100\n",
    "\n",
    "print(arr12)\n",
    "print(copy12)"
   ]
  }
 ],
 "metadata": {
  "kernelspec": {
   "display_name": "Python 3 (ipykernel)",
   "language": "python",
   "name": "python3"
  },
  "language_info": {
   "codemirror_mode": {
    "name": "ipython",
    "version": 3
   },
   "file_extension": ".py",
   "mimetype": "text/x-python",
   "name": "python",
   "nbconvert_exporter": "python",
   "pygments_lexer": "ipython3",
   "version": "3.11.13"
  }
 },
 "nbformat": 4,
 "nbformat_minor": 5
}
