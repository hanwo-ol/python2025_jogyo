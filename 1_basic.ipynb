{
 "cells": [
  {
   "cell_type": "markdown",
   "id": "f69a7c8d-fcfc-4ac0-83a8-f0b8faf2f214",
   "metadata": {},
   "source": [
    "# 1. Python 기초 문법\n",
    "## 1.1. 변수"
   ]
  },
  {
   "cell_type": "code",
   "execution_count": 1,
   "id": "7f583b39-73a7-4461-9547-74406a694cb5",
   "metadata": {},
   "outputs": [
    {
     "data": {
      "text/plain": [
       "100"
      ]
     },
     "execution_count": 1,
     "metadata": {},
     "output_type": "execute_result"
    }
   ],
   "source": [
    "# 변수 생성1 : 숫자(정수형)\n",
    "a = 100\n",
    "a"
   ]
  },
  {
   "cell_type": "code",
   "execution_count": 2,
   "id": "3e9d99fe-ccc5-40c3-80aa-911b7140dba7",
   "metadata": {},
   "outputs": [
    {
     "data": {
      "text/plain": [
       "3.14"
      ]
     },
     "execution_count": 2,
     "metadata": {},
     "output_type": "execute_result"
    }
   ],
   "source": [
    "# 변수 생성2 : 숫자(실수형)\n",
    "b = 3.14\n",
    "b"
   ]
  },
  {
   "cell_type": "code",
   "execution_count": 3,
   "id": "88839295-bb2a-420e-8534-bfc2ad18b034",
   "metadata": {},
   "outputs": [
    {
     "data": {
      "text/plain": [
       "'이순신'"
      ]
     },
     "execution_count": 3,
     "metadata": {},
     "output_type": "execute_result"
    }
   ],
   "source": [
    "# 변수 생성3 : 문자열\n",
    "c = \"이순신\"\n",
    "c"
   ]
  },
  {
   "cell_type": "code",
   "execution_count": 4,
   "id": "bbbbd5e7-e981-478c-a9a0-0343322184d3",
   "metadata": {},
   "outputs": [
    {
     "data": {
      "text/plain": [
       "100"
      ]
     },
     "execution_count": 4,
     "metadata": {},
     "output_type": "execute_result"
    }
   ],
   "source": [
    "# 변수 생성4 : 다른 변수의 값 저장\n",
    "d = a\n",
    "d"
   ]
  },
  {
   "cell_type": "code",
   "execution_count": 5,
   "id": "345cf58e-ad74-4072-a6a2-a8f536cdc59e",
   "metadata": {},
   "outputs": [
    {
     "data": {
      "text/plain": [
       "150"
      ]
     },
     "execution_count": 5,
     "metadata": {},
     "output_type": "execute_result"
    }
   ],
   "source": [
    "# 변수 생성5 : 변수에 저장된 값은 변경 가능\n",
    "d = d + 50\n",
    "d"
   ]
  },
  {
   "cell_type": "code",
   "execution_count": 6,
   "id": "5984ca96-ea08-4ce4-a1d7-992f54d13451",
   "metadata": {},
   "outputs": [
    {
     "data": {
      "text/plain": [
       "['False',\n",
       " 'None',\n",
       " 'True',\n",
       " 'and',\n",
       " 'as',\n",
       " 'assert',\n",
       " 'async',\n",
       " 'await',\n",
       " 'break',\n",
       " 'class',\n",
       " 'continue',\n",
       " 'def',\n",
       " 'del',\n",
       " 'elif',\n",
       " 'else',\n",
       " 'except',\n",
       " 'finally',\n",
       " 'for',\n",
       " 'from',\n",
       " 'global',\n",
       " 'if',\n",
       " 'import',\n",
       " 'in',\n",
       " 'is',\n",
       " 'lambda',\n",
       " 'nonlocal',\n",
       " 'not',\n",
       " 'or',\n",
       " 'pass',\n",
       " 'raise',\n",
       " 'return',\n",
       " 'try',\n",
       " 'while',\n",
       " 'with',\n",
       " 'yield']"
      ]
     },
     "execution_count": 6,
     "metadata": {},
     "output_type": "execute_result"
    }
   ],
   "source": [
    "# 예약어 확인\n",
    "import keyword\n",
    "keyword.kwlist"
   ]
  },
  {
   "cell_type": "code",
   "execution_count": 7,
   "id": "1f26c4e0-c380-4f01-b92a-ed697bcfc830",
   "metadata": {
    "scrolled": true
   },
   "outputs": [
    {
     "name": "stdout",
     "output_type": "stream",
     "text": [
      "<class 'int'>\n",
      "<class 'float'>\n",
      "<class 'str'>\n",
      "<class 'bool'>\n",
      "<class 'bool'>\n"
     ]
    }
   ],
   "source": [
    "# 자료형\n",
    "print(type(100))\n",
    "print(type(95.7))\n",
    "print(type('Lee'))\n",
    "print(type(True))\n",
    "print(type(False))"
   ]
  },
  {
   "cell_type": "markdown",
   "id": "87737ef3-c879-41c5-80cb-f022c2f58b41",
   "metadata": {},
   "source": [
    "## 1.2. 표준 입출력"
   ]
  },
  {
   "cell_type": "code",
   "execution_count": 8,
   "id": "0eed336a-ffae-413b-a312-36584d98ef65",
   "metadata": {},
   "outputs": [
    {
     "name": "stdout",
     "output_type": "stream",
     "text": [
      "15 + 10 = 25\n"
     ]
    }
   ],
   "source": [
    "# 표준 출력\n",
    "x = 15\n",
    "y = 10\n",
    "print(x, '+', y, '=', x+y)"
   ]
  },
  {
   "cell_type": "code",
   "execution_count": 9,
   "id": "b7e6f74e-117d-4e71-a477-5ba6b274d9c0",
   "metadata": {},
   "outputs": [
    {
     "name": "stdout",
     "output_type": "stream",
     "text": [
      "15 + 10 = 25\n"
     ]
    }
   ],
   "source": [
    "# f-string 포맷팅\n",
    "print(f'{x} + {y} = {x+y}')"
   ]
  },
  {
   "cell_type": "markdown",
   "id": "9ecaa210-227c-4157-b118-b87310a839b4",
   "metadata": {},
   "source": [
    "## 1.3. 컬렉션 자료형\n",
    "### 1.3.1. 리스트"
   ]
  },
  {
   "cell_type": "code",
   "execution_count": 10,
   "id": "e28ec552-5515-4022-8f7c-2f54fd02cc63",
   "metadata": {},
   "outputs": [
    {
     "name": "stdout",
     "output_type": "stream",
     "text": [
      "[10, 20, 30]\n"
     ]
    }
   ],
   "source": [
    "# 리스트 생성1\n",
    "x = [10, 20, 30]\n",
    "print(x)"
   ]
  },
  {
   "cell_type": "code",
   "execution_count": 11,
   "id": "09a4714f-1c35-40c6-8ed8-4c31fc8f52f4",
   "metadata": {},
   "outputs": [
    {
     "name": "stdout",
     "output_type": "stream",
     "text": [
      "[3.14, 'Park', [1, 2, 3], [10, 20, 30]]\n"
     ]
    }
   ],
   "source": [
    "# 리스트 생성2 : 서로 다른 자료형을 저장할 수 있음\n",
    "y = [3.14, 'Park', [1, 2, 3], x]\n",
    "print(y)"
   ]
  },
  {
   "cell_type": "code",
   "execution_count": 12,
   "id": "c5c10ae9-52dd-4089-93ab-3713ac867461",
   "metadata": {},
   "outputs": [
    {
     "name": "stdout",
     "output_type": "stream",
     "text": [
      "[10, 20, 30]\n"
     ]
    }
   ],
   "source": [
    "# 리스트 생성3\n",
    "x = list([10, 20, 30])\n",
    "print(x)"
   ]
  },
  {
   "cell_type": "code",
   "execution_count": 13,
   "id": "1611cca9-ef14-454b-bb38-96482f07f74b",
   "metadata": {},
   "outputs": [
    {
     "data": {
      "text/plain": [
       "3.14"
      ]
     },
     "execution_count": 13,
     "metadata": {},
     "output_type": "execute_result"
    }
   ],
   "source": [
    "# 리스트 인덱싱 : 첫 번째 값 가져오기\n",
    "y[0]"
   ]
  },
  {
   "cell_type": "code",
   "execution_count": 14,
   "id": "18097706-02fe-40fe-a9bb-c2a03befd994",
   "metadata": {},
   "outputs": [
    {
     "data": {
      "text/plain": [
       "[10, 20, 30]"
      ]
     },
     "execution_count": 14,
     "metadata": {},
     "output_type": "execute_result"
    }
   ],
   "source": [
    "# 리스트 인덱싱 : 마지막 값 가져오기\n",
    "y[-1]"
   ]
  },
  {
   "cell_type": "code",
   "execution_count": 15,
   "id": "22a1b216-eabe-4313-90ca-f235188a7050",
   "metadata": {},
   "outputs": [
    {
     "data": {
      "text/plain": [
       "[3.14, 'Park']"
      ]
     },
     "execution_count": 15,
     "metadata": {},
     "output_type": "execute_result"
    }
   ],
   "source": [
    "# 리스트 슬라이싱 : 인덱스 0부터 (2-1)까지 가져오기\n",
    "y[0:2]"
   ]
  },
  {
   "cell_type": "code",
   "execution_count": 16,
   "id": "697fa102-4d71-40f3-ba11-5b03cd1f5f60",
   "metadata": {},
   "outputs": [
    {
     "data": {
      "text/plain": [
       "['Park', [1, 2, 3], [10, 20, 30]]"
      ]
     },
     "execution_count": 16,
     "metadata": {},
     "output_type": "execute_result"
    }
   ],
   "source": [
    "# 리스트 슬라이싱 : 인덱스 1부터 끝까지 가져오기\n",
    "y[1:]"
   ]
  },
  {
   "cell_type": "code",
   "execution_count": 17,
   "id": "963edf75-039f-4b30-b9e7-d1c27fc718ff",
   "metadata": {},
   "outputs": [
    {
     "data": {
      "text/plain": [
       "[3.14, 'Park', [1, 2, 3]]"
      ]
     },
     "execution_count": 17,
     "metadata": {},
     "output_type": "execute_result"
    }
   ],
   "source": [
    "# 리스트 슬라이싱 : 처음부터 인덱스 2까지 가져오기\n",
    "y[:3]"
   ]
  },
  {
   "cell_type": "code",
   "execution_count": 18,
   "id": "d63a3d83-5922-468d-8b1f-a9b4b27bde6b",
   "metadata": {},
   "outputs": [
    {
     "name": "stdout",
     "output_type": "stream",
     "text": [
      "[10, 20, 30]\n"
     ]
    }
   ],
   "source": [
    "# 리스트 변경\n",
    "x = [10, 20, 30]\n",
    "print(x)"
   ]
  },
  {
   "cell_type": "code",
   "execution_count": 19,
   "id": "dd46a61e-5b78-47db-ad1b-15b7770ae9c0",
   "metadata": {},
   "outputs": [
    {
     "name": "stdout",
     "output_type": "stream",
     "text": [
      "[50, 20, 30]\n"
     ]
    }
   ],
   "source": [
    "# 첫 번째 값 변경\n",
    "x[0] = 50\n",
    "print(x)"
   ]
  },
  {
   "cell_type": "code",
   "execution_count": 20,
   "id": "1cd563af-a5d8-4c77-98d0-00c6eeff07db",
   "metadata": {},
   "outputs": [
    {
     "name": "stdout",
     "output_type": "stream",
     "text": [
      "[50, 90, 100]\n"
     ]
    }
   ],
   "source": [
    "# 두 번째, 세 번째 값 변경\n",
    "x[1:3] = [90, 100]\n",
    "print(x)"
   ]
  },
  {
   "cell_type": "markdown",
   "id": "b89a1c7f-16c1-475d-9b26-ea9826066eca",
   "metadata": {},
   "source": [
    "### 1.3.2. 튜플"
   ]
  },
  {
   "cell_type": "code",
   "execution_count": 21,
   "id": "d3c9b2ca-cd83-4251-bed7-f50c4c71b171",
   "metadata": {},
   "outputs": [
    {
     "name": "stdout",
     "output_type": "stream",
     "text": [
      "()\n"
     ]
    }
   ],
   "source": [
    "# 튜플 생성1 : 빈 튜플 생성\n",
    "x = ()\n",
    "print(x)"
   ]
  },
  {
   "cell_type": "code",
   "execution_count": 22,
   "id": "6128ea87-89f0-4f77-8915-60b6c00e97dc",
   "metadata": {},
   "outputs": [
    {
     "name": "stdout",
     "output_type": "stream",
     "text": [
      "(1, 2, 3)\n"
     ]
    }
   ],
   "source": [
    "# 튜플 생성2\n",
    "x = (1, 2, 3)\n",
    "print(x)"
   ]
  },
  {
   "cell_type": "code",
   "execution_count": 23,
   "id": "44effff5-c61a-4f37-b291-9acc75268def",
   "metadata": {},
   "outputs": [
    {
     "name": "stdout",
     "output_type": "stream",
     "text": [
      "(1, 2, 3)\n"
     ]
    }
   ],
   "source": [
    "# 튜플 생성3 : ()를 생략할 수 있음\n",
    "x = 1, 2, 3\n",
    "print(x)"
   ]
  },
  {
   "cell_type": "code",
   "execution_count": 24,
   "id": "0673be8c-28bc-4fc6-98de-f5b47526dd21",
   "metadata": {},
   "outputs": [
    {
     "name": "stdout",
     "output_type": "stream",
     "text": [
      "(0, 1, 2, 3, 4, 5, 6, 7, 8, 9)\n"
     ]
    }
   ],
   "source": [
    "# 튜플 생성4 : 0에서 9까지 정수 생성\n",
    "x = tuple(range(10))\n",
    "print(x)"
   ]
  },
  {
   "cell_type": "code",
   "execution_count": 25,
   "id": "a40b66ec-f920-4045-97dd-bda3f2a09a2e",
   "metadata": {},
   "outputs": [
    {
     "name": "stdout",
     "output_type": "stream",
     "text": [
      "[3, 5, 7, 9]\n"
     ]
    }
   ],
   "source": [
    "# range(start=생략하면 0, stop, stride=생략하면 1)\n",
    "x = list(range(3,10,2))\n",
    "print(x)"
   ]
  },
  {
   "cell_type": "code",
   "execution_count": 26,
   "id": "89324429-d379-4ed5-8ea8-ad35ee6bc24c",
   "metadata": {},
   "outputs": [
    {
     "name": "stdout",
     "output_type": "stream",
     "text": [
      "(1, 2, 3)\n"
     ]
    }
   ],
   "source": [
    "# 튜플 생성5 : 리스트를 튜플로 변환\n",
    "x = [1, 2, 3]\n",
    "x = tuple(x)\n",
    "print(x)"
   ]
  },
  {
   "cell_type": "code",
   "execution_count": 27,
   "id": "d4da3994-d5a8-4880-8234-5d2e1dafd7bc",
   "metadata": {},
   "outputs": [],
   "source": [
    "# 튜플 변경 : Error!\n",
    "#x[0] = 10"
   ]
  },
  {
   "cell_type": "code",
   "execution_count": 28,
   "id": "96a79e72-754a-473b-a6ff-1422efa49e74",
   "metadata": {},
   "outputs": [
    {
     "data": {
      "text/plain": [
       "3"
      ]
     },
     "execution_count": 28,
     "metadata": {},
     "output_type": "execute_result"
    }
   ],
   "source": [
    "# 튜플 인덱싱\n",
    "x[-1]"
   ]
  },
  {
   "cell_type": "code",
   "execution_count": 29,
   "id": "b3c349c5-f4ac-4c46-bda8-ac34703d46a1",
   "metadata": {},
   "outputs": [
    {
     "data": {
      "text/plain": [
       "(1, 2)"
      ]
     },
     "execution_count": 29,
     "metadata": {},
     "output_type": "execute_result"
    }
   ],
   "source": [
    "# 튜플 슬라이싱\n",
    "x[:2]"
   ]
  },
  {
   "cell_type": "markdown",
   "id": "4f499c59-5e89-4c0d-b032-7ae320839852",
   "metadata": {},
   "source": [
    "### 1.3.3. 딕셔너리"
   ]
  },
  {
   "cell_type": "code",
   "execution_count": 30,
   "id": "5bc277fa-7e35-4dee-89f3-6db1e79e4c21",
   "metadata": {},
   "outputs": [
    {
     "name": "stdout",
     "output_type": "stream",
     "text": [
      "{}\n"
     ]
    }
   ],
   "source": [
    "# 딕셔너리 생성1 : 빈 딕셔너리 생성\n",
    "x = {}\n",
    "print(x)"
   ]
  },
  {
   "cell_type": "code",
   "execution_count": 31,
   "id": "464fbd23-1b85-4da9-bbca-3dc2216dd534",
   "metadata": {},
   "outputs": [
    {
     "name": "stdout",
     "output_type": "stream",
     "text": [
      "{'김밥': 3000, '라면': 5000}\n"
     ]
    }
   ],
   "source": [
    "# 딕셔너리 생성2\n",
    "menu = {'김밥': 3000, '라면': 5000}\n",
    "print(menu)"
   ]
  },
  {
   "cell_type": "code",
   "execution_count": 32,
   "id": "b0759b80-f50d-4c42-b602-9cadb64f6335",
   "metadata": {},
   "outputs": [
    {
     "data": {
      "text/plain": [
       "3000"
      ]
     },
     "execution_count": 32,
     "metadata": {},
     "output_type": "execute_result"
    }
   ],
   "source": [
    "# 딕셔너리 요소 접근1\n",
    "menu['김밥']"
   ]
  },
  {
   "cell_type": "code",
   "execution_count": 33,
   "id": "678e74e5-f672-4197-89ea-2f4eebbe38fa",
   "metadata": {},
   "outputs": [
    {
     "name": "stdout",
     "output_type": "stream",
     "text": [
      "{'김밥': 3000, '라면': 5000, '어묵': 1500}\n"
     ]
    }
   ],
   "source": [
    "# 딕셔너리 요소 접근2\n",
    "menu['어묵'] = 1500\n",
    "print(menu)"
   ]
  },
  {
   "cell_type": "code",
   "execution_count": 34,
   "id": "64596b60-1f71-4276-bbcc-9300491dd0b0",
   "metadata": {},
   "outputs": [
    {
     "name": "stdout",
     "output_type": "stream",
     "text": [
      "{'Math': [50, 60, 65, 70, 85], 'English': [60, 70, 80, 50, 55]}\n"
     ]
    }
   ],
   "source": [
    "# 딕셔너리 생성3\n",
    "score = {'Math': [50, 60, 65, 70, 85],\n",
    "         'English': [60, 70, 80, 50, 55]}\n",
    "print(score)"
   ]
  },
  {
   "cell_type": "code",
   "execution_count": 35,
   "id": "30dc8b2e-9849-4f66-b823-2c182579a8f9",
   "metadata": {},
   "outputs": [
    {
     "data": {
      "text/plain": [
       "[10, 20, 30]"
      ]
     },
     "execution_count": 35,
     "metadata": {},
     "output_type": "execute_result"
    }
   ],
   "source": [
    "# 리스트 컴프리헨션\n",
    "[x for x in [10, 20, 30]]"
   ]
  },
  {
   "cell_type": "code",
   "execution_count": 36,
   "id": "4a379f48-77f3-4d06-89ff-18d2c67e55e7",
   "metadata": {},
   "outputs": [
    {
     "data": {
      "text/plain": [
       "[-15, -5, 5, 15, 25]"
      ]
     },
     "execution_count": 36,
     "metadata": {},
     "output_type": "execute_result"
    }
   ],
   "source": [
    "num = [-20, -10, 0, 10, 20]\n",
    "[x+5 for x in num]"
   ]
  },
  {
   "cell_type": "code",
   "execution_count": 37,
   "id": "0f50f564-6976-48e4-8384-f0332fbc3bd3",
   "metadata": {},
   "outputs": [
    {
     "data": {
      "text/plain": [
       "[0.1, 0.05]"
      ]
     },
     "execution_count": 37,
     "metadata": {},
     "output_type": "execute_result"
    }
   ],
   "source": [
    "[1/x for x in num if x>0]"
   ]
  },
  {
   "cell_type": "code",
   "execution_count": 38,
   "id": "479ceb3b-a1c8-4b7c-ae2f-9c4fbb0b6a13",
   "metadata": {},
   "outputs": [
    {
     "name": "stdout",
     "output_type": "stream",
     "text": [
      "10\n",
      "20\n",
      "30\n"
     ]
    }
   ],
   "source": [
    "for i in [10, 20, 30]:\n",
    "    print(i)"
   ]
  },
  {
   "cell_type": "code",
   "execution_count": 39,
   "id": "5a013d57-4ed9-426e-9719-4a5fbbbe9085",
   "metadata": {},
   "outputs": [
    {
     "name": "stdout",
     "output_type": "stream",
     "text": [
      "0\n",
      "1\n",
      "2\n",
      "3\n",
      "4\n"
     ]
    }
   ],
   "source": [
    "for i in range(5):\n",
    "    print(i)"
   ]
  },
  {
   "cell_type": "code",
   "execution_count": 40,
   "id": "70cae199-3704-4446-9b27-97037f06a6a5",
   "metadata": {},
   "outputs": [
    {
     "name": "stdout",
     "output_type": "stream",
     "text": [
      "0 수박\n",
      "1 참외\n",
      "2 자두\n"
     ]
    }
   ],
   "source": [
    "# 내장 함수 enumerate()\n",
    "for x, name in enumerate(['수박', '참외', '자두']):\n",
    "    print(x, name)"
   ]
  },
  {
   "cell_type": "code",
   "execution_count": 41,
   "id": "2b50ef2b-a2a3-4382-939b-742234043646",
   "metadata": {},
   "outputs": [
    {
     "data": {
      "text/plain": [
       "{'김밥': 4000, '라면': 6000, '어묵': 3000}"
      ]
     },
     "execution_count": 41,
     "metadata": {},
     "output_type": "execute_result"
    }
   ],
   "source": [
    "# 내장 함수 zip()\n",
    "food = ['김밥', '라면', '어묵']\n",
    "price = [4000, 6000, 3000]\n",
    "dict(zip(food, price))"
   ]
  },
  {
   "cell_type": "code",
   "execution_count": 42,
   "id": "fae81c40-9131-44e2-9489-dd7aa1b3cdb0",
   "metadata": {},
   "outputs": [],
   "source": [
    "# 외부 라이브러리 설치\n",
    "#!pip install random"
   ]
  },
  {
   "cell_type": "code",
   "execution_count": 43,
   "id": "7d200fb8-a5c5-404b-bffe-8ee0c5cc9846",
   "metadata": {},
   "outputs": [
    {
     "name": "stdout",
     "output_type": "stream",
     "text": [
      "[0.8949363981703309, 0.13876038053240658, 0.16671346575282375, 0.9105412777629361, 0.9033439310184499, 0.8447997321024397, 0.5554265137837857, 0.797493230003068, 0.9728731983821438, 0.19262649158950673]\n"
     ]
    }
   ],
   "source": [
    "# 내장 함수 random() 함수\n",
    "import random\n",
    "\n",
    "mylst = []\n",
    "\n",
    "for i in range(10):\n",
    "    # 0.0 ~ 1.0 임의의 실수를 반환(0.0은 포함, 1.0 포함 x)\n",
    "    mylst.append(random.random())\n",
    "\n",
    "print(mylst)"
   ]
  }
 ],
 "metadata": {
  "kernelspec": {
   "display_name": "Python 3 (ipykernel)",
   "language": "python",
   "name": "python3"
  },
  "language_info": {
   "codemirror_mode": {
    "name": "ipython",
    "version": 3
   },
   "file_extension": ".py",
   "mimetype": "text/x-python",
   "name": "python",
   "nbconvert_exporter": "python",
   "pygments_lexer": "ipython3",
   "version": "3.11.13"
  }
 },
 "nbformat": 4,
 "nbformat_minor": 5
}
